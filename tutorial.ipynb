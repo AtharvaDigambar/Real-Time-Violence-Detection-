!pip install -r requirements.txt
from model import Model
model = Model()
import cv2
from utils import extract_frames

video_path = "./data/sample_video.mp4"
cap = cv2.VideoCapture(video_path)
while cap.isOpened():
    ret, frame = cap.read()
    if not ret:
        break
    prediction = model.predict(frame)
    print(prediction)

cap.release()
